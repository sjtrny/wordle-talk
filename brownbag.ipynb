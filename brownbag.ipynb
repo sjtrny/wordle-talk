{
 "cells": [
  {
   "cell_type": "markdown",
   "metadata": {
    "slideshow": {
     "slide_type": "slide"
    }
   },
   "source": [
    "# Optimal Diagnosis Strategies\n",
    "\n",
    "## Lessons from Wordle"
   ]
  },
  {
   "cell_type": "markdown",
   "metadata": {
    "slideshow": {
     "slide_type": "slide"
    }
   },
   "source": [
    "- Empirical performance characteristics of strategies for Wordle.\n",
    "- Efficient computation and approximations.\n",
    "- Extensions and areas of future research will be outlined."
   ]
  },
  {
   "cell_type": "code",
   "execution_count": 1,
   "metadata": {
    "slideshow": {
     "slide_type": "slide"
    }
   },
   "outputs": [
    {
     "data": {
      "text/html": [
       "\n",
       "        <iframe\n",
       "            width=\"1200\"\n",
       "            height=\"700\"\n",
       "            src=\"https://www.nytimes.com/games/wordle/index.html\"\n",
       "            frameborder=\"0\"\n",
       "            allowfullscreen\n",
       "        ></iframe>\n",
       "        "
      ],
      "text/plain": [
       "<IPython.lib.display.IFrame at 0x7f89c1724df0>"
      ]
     },
     "execution_count": 1,
     "metadata": {},
     "output_type": "execute_result"
    }
   ],
   "source": [
    "from IPython.display import IFrame\n",
    "IFrame('https://www.nytimes.com/games/wordle/index.html', width=1200, height=700)"
   ]
  },
  {
   "cell_type": "markdown",
   "metadata": {
    "slideshow": {
     "slide_type": "slide"
    }
   },
   "source": [
    "## Problem Statement\n",
    "\n",
    "Given a set $\\mathcal D = \\{ d_i \\}_{i=1}^D$ of $D$ of possible diagnoses, the goal of the game is to identify the true diagnosis, $d_*$.\n",
    "\n",
    "The player starts with no information about the true diagnosis.\n"
   ]
  },
  {
   "cell_type": "markdown",
   "metadata": {
    "slideshow": {
     "slide_type": "fragment"
    }
   },
   "source": [
    "In earch turn the player plays an action (performs a test) $a_t$ from a set of possible actions $\\mathcal A = \\{ a_i \\}_{i=1}^{A}$.\n",
    "\n",
    "After each action feedback is given that reduces the set of possible diagnoses. In other words we start with $\\mathcal D_t$, after the first play $\\mathcal D_{t+1}$ diagnoses are remaining where $\\mathcal D_{t+1} \\subset \\mathcal D_t$."
   ]
  },
  {
   "cell_type": "markdown",
   "metadata": {
    "slideshow": {
     "slide_type": "slide"
    }
   },
   "source": [
    "## Applications\n",
    "\n",
    "- Medical\n",
    "- Research\n",
    "- Games (e.g. MasterMind)\n",
    "- etc"
   ]
  },
  {
   "cell_type": "markdown",
   "metadata": {
    "slideshow": {
     "slide_type": "slide"
    }
   },
   "source": [
    "<img src=\"flyingdoc.jpeg\">"
   ]
  },
  {
   "cell_type": "markdown",
   "metadata": {
    "slideshow": {
     "slide_type": "slide"
    }
   },
   "source": [
    "## Solutions\n",
    "\n",
    "A diagnosis can be found by an exhaustive search, however exhaustive searches are often time or cost prohibitive.\n",
    "\n",
    "In such situations where exhaustive searches are impractical one must resort to following a policy in order to find the diagnosis in some sense of optimality."
   ]
  },
  {
   "cell_type": "markdown",
   "metadata": {
    "slideshow": {
     "slide_type": "slide"
    }
   },
   "source": [
    "## Optimality\n",
    "\n",
    "Definitions of optimality vary and are contended. Commonly used metrics are:\n",
    "\n",
    "- smallest mean number of guesses\n",
    "- fewest cumulative guesses\n",
    "- least number of failed diagnoses\n",
    "\n",
    "Noting that these metrics are aggregates and are therefore computed over the set of all possible diagnoses. "
   ]
  },
  {
   "cell_type": "markdown",
   "metadata": {
    "slideshow": {
     "slide_type": "slide"
    }
   },
   "source": [
    "# Wordle\n",
    "\n",
    "Precursors:\n",
    "- LINGO\n",
    "- Bulls and Cows\n",
    "- JOTTO"
   ]
  },
  {
   "cell_type": "markdown",
   "metadata": {
    "slideshow": {
     "slide_type": "slide"
    }
   },
   "source": [
    "# Game Modes\n",
    "\n",
    "- Standard: Unrestricted plays.\n",
    "- Hard: Any revealed hints must be used in subsequent guesses."
   ]
  },
  {
   "cell_type": "markdown",
   "metadata": {
    "slideshow": {
     "slide_type": "slide"
    }
   },
   "source": [
    "# Word Lists\n",
    "\n",
    "There are two word lists used by Wordle:\n",
    "1. playable list, with ~12000 English words\n",
    "2. solutions list, which is a ~2000 word subset of the playable list"
   ]
  },
  {
   "cell_type": "markdown",
   "metadata": {
    "slideshow": {
     "slide_type": "slide"
    }
   },
   "source": [
    "# Wordle Policies\n",
    "\n",
    "1. Maximum Information\n",
    "2. Maximum Splits\n",
    "3. Maximum Prune"
   ]
  },
  {
   "cell_type": "markdown",
   "metadata": {
    "slideshow": {
     "slide_type": "slide"
    }
   },
   "source": [
    "### Maximum Splits\n",
    "\n",
    "Plays the word that results in the largest number of outcomes.\n",
    "\n",
    "### Maximum Prune\n",
    "\n",
    "Plays the word that reduces the remaining answers as much as possible."
   ]
  },
  {
   "cell_type": "markdown",
   "metadata": {
    "slideshow": {
     "slide_type": "slide"
    }
   },
   "source": [
    "## Maximum Information\n",
    "\n",
    "*Plays the word that maximises the expected information content revealed about the solution*"
   ]
  },
  {
   "cell_type": "markdown",
   "metadata": {
    "slideshow": {
     "slide_type": "slide"
    }
   },
   "source": [
    "Let the outcome from making a guess, i.e. the code received, be a discrete random variable $X$.\n",
    "\n",
    "This random variable has 243 possible values (5 letters with 3 states i.e. $3^5$).\n",
    "\n",
    "For example all 5 grey letters is one outcome, a green followed by four grey letters is another."
   ]
  },
  {
   "cell_type": "markdown",
   "metadata": {
    "slideshow": {
     "slide_type": "slide"
    }
   },
   "source": [
    "For a guess G the probability of an outcome is given by a Categorical distribution i.e.\n",
    "\n",
    "$P(X | G) \\sim Cat(k, p)$\n",
    "\n",
    "The expected information content in the outcomes of P(X | G) is given by entropy, which is\n",
    "defined as\n",
    "\n",
    "$H(X|G) = -\\sum_{i=1}^{243} P(X=x_i | G) \\log(P(X=x_i | G))$\n",
    "\n",
    "where $P(X=x_i | G)$ is the probability of outcome $i$. The value of $P(X=x_i | G)$ is just the proportion\n",
    "of answers that fall in outcome i when playing the guess word."
   ]
  },
  {
   "cell_type": "markdown",
   "metadata": {
    "slideshow": {
     "slide_type": "slide"
    }
   },
   "source": [
    "The word that most evenly divides the answer pool into the 243 bins (i.e. highest entropy) will neccesarily result in a large number of small bins."
   ]
  },
  {
   "cell_type": "markdown",
   "metadata": {
    "slideshow": {
     "slide_type": "slide"
    }
   },
   "source": [
    "<img src=\"soare.png\">"
   ]
  },
  {
   "cell_type": "markdown",
   "metadata": {
    "slideshow": {
     "slide_type": "slide"
    }
   },
   "source": [
    "<img src=\"fuzzy.png\">"
   ]
  },
  {
   "cell_type": "markdown",
   "metadata": {
    "slideshow": {
     "slide_type": "slide"
    }
   },
   "source": [
    "## Information Gain Equivalence\n",
    "\n",
    "The Maximum Information policy is equivalent to the Information Gain policy in decision trees."
   ]
  },
  {
   "cell_type": "markdown",
   "metadata": {
    "slideshow": {
     "slide_type": "skip"
    }
   },
   "source": [
    "# Demo"
   ]
  },
  {
   "cell_type": "markdown",
   "metadata": {
    "slideshow": {
     "slide_type": "slide"
    }
   },
   "source": [
    "## Policy Comparison\n",
    "\n",
    "| Policy    | Mode     | Optimal Starting Word | Mean Guesses       | Failed Words                                                                                                                                                                                            |\n",
    "|-----------|----------|-----------------------|--------------------|---------------------------------------------------------------------------------------------------------------------------------------------------------------------------------------------------------|\n",
    "| MaxInfo   | Standard | 'reast'               | 3.600431965442765  | 'goner' 'hatch' 'jaunt' 'found' 'waste' 'taunt' 'catch' 'dilly' 'boxer'                                                                                                                                 |\n",
    "|           | Hard     | 'reast'               | 3.639635732870772  |                                                                                                                                                                                                         |\n",
    "| MaxSplits | Standard | 'trace'               | 3.6207343412527    |                                                                                                                                                                                                         |\n",
    "|           | Hard     | 'salet'               | 3.6259211096662334 | 'pound' 'hatch' 'watch' 'found' 'cover' 'blank' 'boxer' 'wight'                                                                                                                                         |\n",
    "| MaxPrune  | Standard | 'laten'               | 4.439469320066335  | 'sissy' 'awake' 'blush' ... 'judge' 'rower' 'shave'                                                                                                                                                     |\n",
    "|           | Hard     | 'leant'               | 3.8034934497816595 | 'dolly' 'mover' 'piper' 'water' 'foist' 'bound' 'sense' 'viper' 'rarer' 'waver' 'wreak' 'flake' 'wound' 'baste' 'tight' 'biddy' 'happy' 'fleck' 'mossy' 'hound' 'blame' 'vaunt' 'match' 'catty' 'rower' |"
   ]
  },
  {
   "cell_type": "markdown",
   "metadata": {
    "slideshow": {
     "slide_type": "slide"
    }
   },
   "source": [
    "## Cross Validation\n",
    "\n",
    "Cross-validating on the playable word list and generating random solution lists reveals that the MaxInfo policy is slightly ahead.\n",
    "\n",
    "**RESULTS PENDING**"
   ]
  },
  {
   "cell_type": "markdown",
   "metadata": {
    "slideshow": {
     "slide_type": "slide"
    }
   },
   "source": [
    "# Problems\n",
    "\n",
    "Searching for optimal starting words, evaluating different policies is quite slow."
   ]
  },
  {
   "cell_type": "markdown",
   "metadata": {
    "slideshow": {
     "slide_type": "slide"
    }
   },
   "source": [
    "## Parallelisation\n",
    "\n",
    "Fortunately this problem is \"embarrasingly parallel\"."
   ]
  },
  {
   "cell_type": "markdown",
   "metadata": {
    "slideshow": {
     "slide_type": "slide"
    }
   },
   "source": [
    "## Approximations \n",
    "\n",
    "It's not completely neccesary to generate the full distribution. \n",
    "\n",
    "The required sample size $b$ can be determined from the Dvoretzky-Kiefer-Wolfowitz inequality\n",
    "\n",
    "$$b \\geq \\left( {1 \\over 2 \\epsilon^2 } \\right) \\mathrm{ln} \\left( {2 \\over \\alpha} \\right)$$\n",
    "\n",
    "where $\\epsilon$ is the tolerance allowed between the actual CDF and the empircal, and $1 - \\alpha$ is the confidence level."
   ]
  },
  {
   "cell_type": "markdown",
   "metadata": {
    "slideshow": {
     "slide_type": "slide"
    }
   },
   "source": [
    "## Extensions and Variants\n",
    "\n",
    "- Random (faulty) feedback\n",
    "- Incorporating prior knowledge\n",
    "- N-blind plays\n",
    "- Action costs\n",
    "- Multi-criteria optimality\n"
   ]
  },
  {
   "cell_type": "markdown",
   "metadata": {
    "slideshow": {
     "slide_type": "slide"
    }
   },
   "source": [
    "## Research Questions\n",
    "\n",
    "1. Can we develop policies for all variants?\n",
    "2. Is there a globally optimal policy? Why or why not?\n",
    "4. Can we develop efficient policies for huge problems?\n",
    "4. What approximations can be deployed and can guarantees be developed for their success?"
   ]
  }
 ],
 "metadata": {
  "celltoolbar": "Slideshow",
  "kernelspec": {
   "display_name": "Python 3",
   "language": "python",
   "name": "python3"
  },
  "language_info": {
   "codemirror_mode": {
    "name": "ipython",
    "version": 3
   },
   "file_extension": ".py",
   "mimetype": "text/x-python",
   "name": "python",
   "nbconvert_exporter": "python",
   "pygments_lexer": "ipython3",
   "version": "3.8.5"
  }
 },
 "nbformat": 4,
 "nbformat_minor": 5
}
